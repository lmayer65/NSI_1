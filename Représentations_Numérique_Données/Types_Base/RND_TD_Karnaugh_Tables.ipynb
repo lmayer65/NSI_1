{
 "cells": [
  {
   "cell_type": "markdown",
   "id": "d8386438",
   "metadata": {},
   "source": [
    "# Tables de vérité & Tables de Karnaugh — Série d’exercices\n",
    "\n",
    "**Consignes générales :**\n",
    "- Pour chaque tableau de vérité, **détermine l’expression simplifiée** en utilisant les opérateurs `AND`, `OR`, `NOT`, `XOR`.\n",
    "- **Justifie** systématiquement ta réponse (par exemple : identification des cas où F=1, regroupements K-map éventuels, argument d’équivalence).\n",
    "- Les opérateurs doivent être écrits textuellement (et non en symboles `∧`, `∨`, etc.).\n",
    "\n",
    "---\n"
   ]
  },
  {
   "cell_type": "markdown",
   "id": "6409bb0c",
   "metadata": {},
   "source": [
    "## Exercice 1\n",
    "Table de vérité de \\(F(A,B)\\) :\n",
    "\n",
    "| A | B | F(A,B) |\n",
    "|:-:|:-:|:-:|\n",
    "| 0 | 0 | 0 |\n",
    "| 0 | 1 | 1 |\n",
    "| 1 | 0 | 1 |\n",
    "| 1 | 1 | 0 |\n",
    "\n",
    "**Question.** Donner la forme **simplifiée** de `F(A,B)` en utilisant `AND`, `OR`, `NOT`, `XOR`.  \n",
    "**Justification requise.**\n"
   ]
  },
  {
   "cell_type": "markdown",
   "id": "4f4a0947",
   "metadata": {},
   "source": [
    "## Exercice 2\n",
    "Table de vérité de \\(F(A,B)\\) :\n",
    "\n",
    "| A | B | F(A,B) |\n",
    "|:-:|:-:|:-:|\n",
    "| 0 | 0 | 1 |\n",
    "| 0 | 1 | 1 |\n",
    "| 1 | 0 | 1 |\n",
    "| 1 | 1 | 0 |\n",
    "\n",
    "**Question.** Donner la forme **simplifiée** de `F(A,B)`.  \n",
    "**Justification requise.**\n"
   ]
  },
  {
   "cell_type": "markdown",
   "id": "493eb62a",
   "metadata": {},
   "source": [
    "## Exercice 3\n",
    "Table de vérité de \\(F(A,B,C)\\) :\n",
    "\n",
    "| A | B | C | F(A,B,C) |\n",
    "|:-:|:-:|:-:|:-:|\n",
    "| 0 | 0 | 0 | 0 |\n",
    "| 0 | 0 | 1 | 1 |\n",
    "| 0 | 1 | 0 | 1 |\n",
    "| 0 | 1 | 1 | 0 |\n",
    "| 1 | 0 | 0 | 1 |\n",
    "| 1 | 0 | 1 | 0 |\n",
    "| 1 | 1 | 0 | 0 |\n",
    "| 1 | 1 | 1 | 1 |\n",
    "\n",
    "**Question.** Simplifier `F(A,B,C)` à partir de la table de vérité.  \n",
    "**Justification requise (table de Karnaugh).**\n"
   ]
  },
  {
   "cell_type": "markdown",
   "id": "2d173e51",
   "metadata": {},
   "source": [
    "## Exercice 4\n",
    "Table de vérité de \\(F(A,B,C)\\) :\n",
    "\n",
    "| A | B | C | F(A,B,C) |\n",
    "|:-:|:-:|:-:|:-:|\n",
    "| 0 | 0 | 0 | 0 |\n",
    "| 0 | 0 | 1 | 1 |\n",
    "| 0 | 1 | 0 | 0 |\n",
    "| 0 | 1 | 1 | 1 |\n",
    "| 1 | 0 | 0 | 0 |\n",
    "| 1 | 0 | 1 | 1 |\n",
    "| 1 | 1 | 0 | 0 |\n",
    "| 1 | 1 | 1 | 1 |\n",
    "\n",
    "**Question.** Donner la forme **simplifiée** de `F(A,B,C)` (indice : regarde la colonne `C`).  \n",
    "**Justification requise (table de Karnaugh).**\n"
   ]
  },
  {
   "cell_type": "markdown",
   "id": "8f5efbe1",
   "metadata": {},
   "source": [
    "## Exercice 5\n",
    "Table de vérité de \\(F(A,B,C)\\) :\n",
    "\n",
    "| A | B | C | F(A,B,C) |\n",
    "|:-:|:-:|:-:|:-:|\n",
    "| 0 | 0 | 0 | 1 |\n",
    "| 0 | 0 | 1 | 0 |\n",
    "| 0 | 1 | 0 | 0 |\n",
    "| 0 | 1 | 1 | 1 |\n",
    "| 1 | 0 | 0 | 0 |\n",
    "| 1 | 0 | 1 | 1 |\n",
    "| 1 | 1 | 0 | 1 |\n",
    "| 1 | 1 | 1 | 0 |\n",
    "\n",
    "**Question.** Donner la forme **simplifiée** de `F(A,B,C)` (tu peux raisonner avec la parité des 1).  \n",
    "**Justification requise (table de Karnaugh).**\n"
   ]
  },
  {
   "cell_type": "markdown",
   "id": "ed8ce64f",
   "metadata": {},
   "source": [
    "## Exercice 6 — Contrat de location automobile (Karnaugh à 4 variables)\n",
    "\n",
    "Une agence de location de voitures accorde une **réduction spéciale** à certains clients selon les conditions suivantes :\n",
    "\n",
    "**Conditions (réduction accordée si au moins une est vraie) :**\n",
    "- Le client est **abonné Premium**, **n’a pas eu d’accident** et a **plus de 30 ans**.  \n",
    "- Le client **n’est pas abonné Premium** mais a **loué plus de 10 fois** et **n’a pas eu d’accident**.  \n",
    "- Le client a **plus de 30 ans** et **a loué plus de 10 fois**.  \n",
    "- Le client est **abonné Premium**, quel que soit le reste, s’il **n’a pas eu d’accident**.  \n",
    "- Le client **n’est pas Premium**, **a eu un accident**, mais a **plus de 30 ans**.\n",
    "\n",
    "---\n",
    "\n",
    "### Variables logiques :\n",
    "| Variable | Valeur | Signification |\n",
    "|:--|:--|:--|\n",
    "| **A = 1** | client **abonné Premium** |\n",
    "| **B = 1** | client a **eu un accident** |\n",
    "| **C = 1** | client a **loué plus de 10 fois** |\n",
    "| **D = 1** | client a **moins de 30 ans** |\n",
    "\n",
    "La sortie est `R = 1` si la **réduction est accordée**.\n",
    "\n",
    "---\n",
    "\n",
    "### Tâches à réaliser :\n",
    "1. Construire la **table de vérité complète** de `R(A,B,C,D)`.  \n",
    "2. Reporter les cas `R=1` dans la **table de Karnaugh à 4 variables**.  \n",
    "3. Réaliser les **groupements maximaux** (puissances de 2).  \n",
    "4. Déterminer l’expression **simplifiée de `R`** en utilisant `AND`, `OR`, `NOT`.  "
   ]
  },
  {
   "cell_type": "markdown",
   "id": "96343602",
   "metadata": {},
   "source": [
    "---\n",
    "# Corrigé (à cacher pendant l’évaluation)\n",
    "\n",
    "> **Astuce d’usage** : Pour distribuer le notebook aux élèves sans le corrigé, supprime ce bloc ou masque-le avant envoi.\n"
   ]
  },
  {
   "cell_type": "markdown",
   "id": "1ec84686",
   "metadata": {},
   "source": [
    "## Corrigé — Réponses simplifiées et justifications synthétiques\n",
    "\n",
    "**Exercice 1.**  \n",
    "Réponse : `F = A XOR B`.  \n",
    "*Justification.* `F=1` lorsque `A` et `B` sont différents (lignes 01 et 10), et `F=0` pour 00 et 11 ⇒ c’est la définition de `XOR`.\n",
    "\n",
    "**Exercice 2.**  \n",
    "Réponse : `F = NOT (A AND B)`.  \n",
    "*Justification.* La seule ligne où `F=0` est `A=1, B=1`. Toutes les autres sont à 1 ⇒ c’est l’opérateur `NAND`, soit `NOT (A AND B)`.\n",
    "\n",
    "**Exercice 3.**  \n",
    "Réponse : `F = A XOR B XOR C`.  \n",
    "*Justification.* `F=1` sur les lignes où il y a un **nombre impair** de 1 parmi `A,B,C` (1, 3). C’est la parité impaire, équivalente à `XOR` itératif.\n",
    "\n",
    "**Exercice 4.**  \n",
    "Réponse : `F = C`.  \n",
    "*Justification.* Toutes les lignes avec `C=1` donnent `F=1`, et toutes celles avec `C=0` donnent `F=0` ⇒ les variables `A` et `B` sont éliminées.\n",
    "\n",
    "**Exercice 5.**  \n",
    "Réponse : `F = (A XOR B) XOR NOT(C)`.  \n",
    "*Justification.* `F=1` quand le **nombre de 1 est pair** parmi `A,B,C`. C’est la parité **paire** ⇒ `XOR` de `A,B,C` puis négation : `(A XOR B) XOR NOT(C)` (équivalent à `NOT(A XOR B XOR C)`, plusieurs formes acceptées).\n",
    "\n",
    "**Exercice 6 — Contrat (Karnaugh, 4 variables).**  \n",
    "On obtient la table de vérité avec **11** mintermes à `1`. La simplification par K-map (ordre Gray) donne par groupements maximaux la forme **SOP minimale** suivante :\n",
    "\n",
    "\\[\n",
    "\\boxed{\\; S = \\; (NOT\\ Z) \\ \\textbf{OR}\\ (X \\ \\textbf{AND}\\ NOT\\ W) \\ \\textbf{OR}\\ (X \\ \\textbf{AND}\\ Y) \\;}\n",
    "\\]\n",
    "\n",
    "**Justification des groupes (ex. d’un regroupement valide) :**\n",
    "- **Groupe 8 cases** sur toute la bande `Z=0` ⇒ terme `NOT Z` (toutes les combinaisons de `W,X,Y` avec `25+` sont couvertes par les conditions 1,3,4,6).  \n",
    "- **Groupe 4 cases** sur `X=1` & `W=0` (quelle que soit `Y,Z`) ⇒ terme `X AND NOT W` (conditions 2 et 6).  \n",
    "- **Groupe 4 cases** sur `X=1` & `Y=1` (quelle que soit `W,Z`) ⇒ terme `X AND Y` (condition 5).\n",
    "\n",
    "La **réunion** de ces groupes couvre exactement les 11 cas à `1` et **aucun** cas à `0`.\n",
    "\n",
    "> Toute autre écriture algébriquement équivalente (réordonnée ou factorisée) est acceptée.\n"
   ]
  }
 ],
 "metadata": {
  "kernelspec": {
   "display_name": "Python 3 (ipykernel)",
   "language": "python",
   "name": "python3"
  },
  "language_info": {
   "codemirror_mode": {
    "name": "ipython",
    "version": 3
   },
   "file_extension": ".py",
   "mimetype": "text/x-python",
   "name": "python",
   "nbconvert_exporter": "python",
   "pygments_lexer": "ipython3",
   "version": "3.12.7"
  }
 },
 "nbformat": 4,
 "nbformat_minor": 5
}
