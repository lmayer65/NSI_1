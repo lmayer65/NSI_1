{
 "cells": [
  {
   "cell_type": "markdown",
   "metadata": {},
   "source": [
    "# RND.Tables.Exploitation.TOP14 \n"
   ]
  },
  {
   "cell_type": "markdown",
   "metadata": {},
   "source": [
    "Les fichiers CSV (pour Comma Separated Values) sont des fichiers-texte (ils ne contiennent aucune mise en forme) utilisés pour stocker des données, séparées par des virgules (ou des points-virgules, ou des espaces...). Il n'y a pas de norme officielle du CSV.  \n",
    "\n",
    "### <u>Avant de commencer</u> : Vérifier que les fichiers exemple.csv et top14.csv sont bien montés dans Jupyter !\n"
   ]
  },
  {
   "cell_type": "markdown",
   "metadata": {},
   "source": [
    "## <u>Activité 1</u> : Ouverture d'un fichier CSV par des logiciels classiques\n",
    "\n",
    "- <b>Ouvrir</b> avec le Bloc-Notes le fichier `exemple.csv`.\n",
    "- <b>Rajouter</b> une ligne avec une personne supplémentaire, <b>en suivant la logique</b> et sauvegarder le fichier.\n",
    "- <b>Ouvrir</b> le fichier avec un tableur (Calc ou Excel).\n",
    "\n",
    "### <u>Appeler le professeur</b> pour validation"
   ]
  },
  {
   "cell_type": "markdown",
   "metadata": {},
   "source": [
    "## <u>Activité 2</u> : Exploitation d'un fichier CSV en Python avec le module CSV\n",
    "L'utilisation d'un tableur peut être délicate lorsque le fichier CSV comporte un très grand nombre de lignes. \n",
    "Python permet de lire et d'extraire des informations d'un fichier CSV même très volumineux, grâce à des modules dédiés, comme le bien-nommé `csv` (utilisé ici) ou bien `pandas` (qui sera vu plus tard)."
   ]
  },
  {
   "cell_type": "code",
   "execution_count": null,
   "metadata": {},
   "outputs": [],
   "source": [
    "import csv                          \n",
    "f = open('exemple.csv', \"r\", encoding = 'utf-8') # Le \"r\" signifie \"read\", le fichier est ouvert en lecture seule\n",
    "donnees = csv.reader(f)                          # 'donnees' est un objet (spécifique au module csv) qui contient des lignes\n",
    "\n",
    "for ligne in donnees:               \n",
    "    print(ligne)\n",
    "    \n",
    "f.close()    # Toujours fermer le fichier !"
   ]
  },
  {
   "cell_type": "markdown",
   "metadata": {},
   "source": [
    "1/ <b>Exécuter</b> le programme.\n",
    "\n",
    "2/ (Oral) <b>Quels problèmes</b> posent le résultat obtenu si l'on veut les exploiter ?\n",
    "\n",
    "### <u>Appeler le professeur</u> pour la justification"
   ]
  },
  {
   "cell_type": "markdown",
   "metadata": {},
   "source": [
    "## <u>Activité 3</u> : Améliorations\n",
    "Au lieu d'utiliser la fonction `csv.reader()`, on utilise `csv.DictReader()`. Comme son nom l'indique, elle renverra une variable contenant des dictionnaires."
   ]
  },
  {
   "cell_type": "code",
   "execution_count": null,
   "metadata": {},
   "outputs": [],
   "source": [
    "import csv\n",
    "f = open('exemple.csv', \"r\", encoding = 'utf-8')\n",
    "donnees = csv.DictReader(f)\n",
    "\n",
    "for ligne in donnees:\n",
    "    print(dict(ligne))\n",
    "    \n",
    "f.close()"
   ]
  },
  {
   "cell_type": "markdown",
   "metadata": {},
   "source": [
    "Les données sont maintenant des dictionnaires ce qui est déjà plus facilement exploitable. Mais comment ré-accéder au premier d'entre eux, celui de John Smith ? \n",
    "\n",
    "<b><u>Question</u></b> : <b>Exécuter</b> l'instruction suivante. Que se passe-t-il ? (Oral) <b>Justifier</b>."
   ]
  },
  {
   "cell_type": "code",
   "execution_count": null,
   "metadata": {},
   "outputs": [],
   "source": [
    "#### A exécuter #####\n",
    "\n",
    "print(donnees[0])"
   ]
  },
  {
   "cell_type": "markdown",
   "metadata": {},
   "source": [
    "### <u>Appeler le professeur</u> pour la justification"
   ]
  },
  {
   "cell_type": "markdown",
   "metadata": {},
   "source": [
    "On va donc créer une <b>liste de dictionnaires</b>, cela permettra d'accéder facilement à chaque enregistrement."
   ]
  },
  {
   "cell_type": "code",
   "execution_count": null,
   "metadata": {},
   "outputs": [],
   "source": [
    "import csv\n",
    "f = open('exemple.csv', \"r\", encoding = 'utf-8')\n",
    "donnees = csv.DictReader(f)\n",
    "amis = []\n",
    "for ligne in donnees:\n",
    "    amis.append(dict(ligne))\n",
    "    \n",
    "f.close()"
   ]
  },
  {
   "cell_type": "markdown",
   "metadata": {},
   "source": [
    "<b><u>Question</u></b> : <b>Ecrire</b> l'instruction affichant la valeur de la variable <i>amis</i>."
   ]
  },
  {
   "cell_type": "code",
   "execution_count": null,
   "metadata": {},
   "outputs": [],
   "source": [
    "### Ecrire l'instruction ici ###\n"
   ]
  },
  {
   "cell_type": "markdown",
   "metadata": {},
   "source": [
    "1/ Que va <b>afficher</b> l'instruction `print(amis[0]['Email'])`?\n",
    "\n",
    "2/ Que va <b>afficher</b> l'instruction `print(amis[2]['Nom'])`?\n",
    "\n",
    "<b><u>Note</u></b> : on vérifiera les réponses en écrivant les instructions dans la cellule ci-dessous."
   ]
  },
  {
   "cell_type": "code",
   "execution_count": null,
   "metadata": {},
   "outputs": [],
   "source": [
    "### Vérifier ici les résultats ###\n"
   ]
  },
  {
   "cell_type": "markdown",
   "metadata": {},
   "source": [
    "## <u>Activité 4</u> : Exploitation du fichier des joueurs de rugby du TOP14\n",
    "\n",
    "### <u>Partie I</u> : Quelques manipulations de base"
   ]
  },
  {
   "cell_type": "markdown",
   "metadata": {},
   "source": [
    "Le fichier `top14.csv ` du dossier `data` contient tous les joueurs du Top14 de rugby, saison 2019-2020, avec leur date de naissance, leur poste, et leurs mensurations. \n",
    "\n",
    "<b><u>Important</u> : Voici les champs</b> : `Equipe` , `Nom` , `Poste` , `Date de naissance` , `Taille`, `Poids`.\n",
    "\n",
    "<i><u>Source</u> : Ce fichier a été généré par Rémi Deniaud, de l'académie de Bordeaux.</i>\n"
   ]
  },
  {
   "cell_type": "markdown",
   "metadata": {},
   "source": [
    "1/ <b>Stocker</b> dans  une variable `joueurs`  les renseignements de tous les joueurs présents dans ce fichier csv puis <b>exécuter le programme</b>.\n",
    "\n",
    "<b><u>Remarque</u></b> : <b>On n'affichera <u>PAS</u></b> la valeur de la variable `joueurs`!!"
   ]
  },
  {
   "cell_type": "code",
   "execution_count": 5,
   "metadata": {},
   "outputs": [],
   "source": [
    "### Ecrire le programme ici ###\n"
   ]
  },
  {
   "cell_type": "markdown",
   "metadata": {},
   "source": [
    "2/ <b>Ecrire</b> l'instruction permettant d'afficher les caractéristiques du premier joueur."
   ]
  },
  {
   "cell_type": "code",
   "execution_count": null,
   "metadata": {},
   "outputs": [],
   "source": [
    "### Ecrire l'instruction ici ###\n"
   ]
  },
  {
   "cell_type": "markdown",
   "metadata": {},
   "source": [
    "2/ <b>Ecrire</b> l'instruction permettant d'afficher le nom du 486ième joueur."
   ]
  },
  {
   "cell_type": "code",
   "execution_count": null,
   "metadata": {},
   "outputs": [],
   "source": [
    "### Ecrire l'instruction ici ###\n"
   ]
  },
  {
   "cell_type": "markdown",
   "metadata": {},
   "source": [
    "3/ <b>Ecrire</b> l'instruction permettant de donner le nombre joueurs du TOP 14."
   ]
  },
  {
   "cell_type": "code",
   "execution_count": null,
   "metadata": {},
   "outputs": [],
   "source": [
    "### Ecrire l'instruction ici ###\n"
   ]
  },
  {
   "cell_type": "markdown",
   "metadata": {},
   "source": [
    "### <u>Appeler le professeur</u> pour la validation"
   ]
  },
  {
   "cell_type": "markdown",
   "metadata": {},
   "source": [
    "### <u>Partie II</u> : Extraction de données particulières\n",
    "\n",
    "<b><u>Exemple</u></b> : Où joue Baptiste SERIN ?  \n",
    "La méthode la plus naturelle est de parcourir toute la liste jusqu'à trouver le bon joueur, puis d'afficher son équipe. <b>Exécuter</b> le programme suivant :"
   ]
  },
  {
   "cell_type": "code",
   "execution_count": null,
   "metadata": {},
   "outputs": [],
   "source": [
    "# A exécuter\n",
    "# Parcours classique de chaque dictionnaire de la variable `joueurs`\n",
    "for k in joueurs :\n",
    "    if k['Nom'] == 'Baptiste SERIN' :  # Dès que l'on trouve le joueur, on affiche l'équipe\n",
    "        print(k['Equipe'])"
   ]
  },
  {
   "cell_type": "markdown",
   "metadata": {},
   "source": [
    "Une méthode plus efficace est d'utiliser une <b>liste par compréhension incluant un test</b>. <b>Bien observer</b> le programme suivant et l'<b>exécuter</b>."
   ]
  },
  {
   "cell_type": "code",
   "execution_count": null,
   "metadata": {},
   "outputs": [],
   "source": [
    "### Méthode par compréhension ###\n",
    "clubSerin = [k['Equipe'] for k in joueurs if k['Nom'] == 'Baptiste SERIN']\n",
    "print(clubSerin)"
   ]
  },
  {
   "cell_type": "markdown",
   "metadata": {},
   "source": [
    "<b><u>Remarque</u></b> : Ne pas hésiter à reprendre le cours sur les types construits (listes) si besoin."
   ]
  },
  {
   "cell_type": "markdown",
   "metadata": {},
   "source": [
    "1/ <b>Ecrire</b> ci-dessous un programme donnant le nom des joueurs jouant dans le même club que Baptiste SERIN."
   ]
  },
  {
   "cell_type": "code",
   "execution_count": null,
   "metadata": {},
   "outputs": [],
   "source": [
    "### Ecrire le programme ici ###\n"
   ]
  },
  {
   "cell_type": "markdown",
   "metadata": {},
   "source": [
    "2/ <b>Ecrire</b> ci-dessous un programme donnant le nom et le poids des joueurs de <u>strictement</u> plus de 140 kg.\n",
    "\n",
    "<b><u>Important</u> : On fera TRES attention à convertir en nombre entier ce qui est nécessaire à l'aide de la fonction `int(valeur à convertir)`</b>."
   ]
  },
  {
   "cell_type": "code",
   "execution_count": null,
   "metadata": {},
   "outputs": [],
   "source": [
    "### Ecrire le programme ici ###\n"
   ]
  },
  {
   "cell_type": "markdown",
   "metadata": {},
   "source": [
    "3/ <b>Ecrire</b> ci-dessous un programme donnant le nom , la taille et le poids des joueurs mesurant <u>strictement</u> moins de 180 cm et pesant <u>strictement</u> moins de 80 kg."
   ]
  },
  {
   "cell_type": "code",
   "execution_count": null,
   "metadata": {},
   "outputs": [],
   "source": [
    "### Ecrire le programme ici ###\n"
   ]
  },
  {
   "cell_type": "markdown",
   "metadata": {},
   "source": [
    "### <u>Appeler le professeur</u> pour la validation"
   ]
  },
  {
   "cell_type": "markdown",
   "metadata": {},
   "source": [
    "### <u>Partie III</u> : Exploitation graphique\n",
    "On va utiliser le module Matplotlib pour illustrer les données de notre fichier csv."
   ]
  },
  {
   "cell_type": "markdown",
   "metadata": {},
   "source": [
    "<b><u>Exemple</u></b> : Représentation dans un repère orthogonal de deux listes X - respectivement Y- "
   ]
  },
  {
   "cell_type": "code",
   "execution_count": 3,
   "metadata": {},
   "outputs": [
    {
     "data": {
      "image/png": "[encoded data removed]",
      "text/plain": [
       "<Figure size 432x288 with 1 Axes>"
      ]
     },
     "metadata": {
      "needs_background": "light"
     },
     "output_type": "display_data"
    }
   ],
   "source": [
    "%matplotlib inline\n",
    "import matplotlib.pyplot as plt\n",
    "\n",
    "# Liste des abscisses et des ordonnées\n",
    "X = [0,1,3,6]\n",
    "Y = [12,10,7,15]\n",
    "\n",
    "# Représentation dans un repère orthonormé\n",
    "# 'ro' signifie que l'on dessinera des cercles rouges (le 'r' pour red et le 'o' pour le cercle)\n",
    "plt.plot(X,Y,'ro') # r pour red, o pour un cercle. \n",
    "\n",
    "# Affichage du résultat\n",
    "plt.show()"
   ]
  },
  {
   "cell_type": "markdown",
   "metadata": {},
   "source": [
    "1/ <b>Afficher</b> sur un graphique tous les joueurs de rugby du top14, en mettant le poids en abscisse et la taille en ordonnée représentés des points rouges (comme dans l'exemple).\n",
    "\n",
    "<b><u>Important</u> : On fera TRES attention à convertir en nombre entier ce qui est nécessaire à l'aide de la fonction `int(valeur à convertir)`</b>."
   ]
  },
  {
   "cell_type": "code",
   "execution_count": null,
   "metadata": {},
   "outputs": [],
   "source": [
    "import csv\n",
    "%matplotlib inline\n",
    "\n",
    "# Chargement des données du fichier top14.csv dans la variable joueurs (liste de dictionnaires)\n",
    "f = open('top14.csv', \"r\", encoding = 'utf-8')\n",
    "donnees = csv.DictReader(f)\n",
    "joueurs = []\n",
    "for ligne in donnees:\n",
    "    joueurs.append(dict(ligne))\n",
    "    \n",
    "f.close()\n",
    "\n",
    "\n",
    "### Ecrire la suite du programme ici ###\n"
   ]
  },
  {
   "cell_type": "markdown",
   "metadata": {},
   "source": [
    "2/ <b>Recolorier en <u>bleu</u></b> les joueurs évoluant au `Poste` de `'Centre'`. On utilisera pour cela l'instruction `plt.plot(X,Y,'bo')`, le paramètre `'bo'`signifiant que l'on trace des points en bleu (b pour blue).\n",
    "\n",
    "3/ <b>Recolorier en <u>vert</u></b> les joueurs évoluant au `Poste` de `'2ème ligne'`. On utilisera pour cela l'instruction `plt.plot(X,Y,'go')`, le paramètre `'go'`signifiant que l'on trace des points en vert (g pour green)."
   ]
  },
  {
   "cell_type": "code",
   "execution_count": null,
   "metadata": {},
   "outputs": [],
   "source": [
    "import csv\n",
    "%matplotlib inline\n",
    "\n",
    "# Chargement des données du fichier top14.csv dans la variable joueurs (liste de dictionnaires)\n",
    "f = open('top14.csv', \"r\", encoding = 'utf-8')\n",
    "donnees = csv.DictReader(f)\n",
    "joueurs = []\n",
    "for ligne in donnees:\n",
    "    joueurs.append(dict(ligne))\n",
    "    \n",
    "f.close()\n",
    "\n",
    "\n",
    "# Tous les joueurs\n",
    "X = [int(k['Poids']) for k in joueurs]\n",
    "Y = [int(k['Taille']) for k in joueurs]\n",
    "plt.plot(X,Y,'ro')\n",
    "\n",
    "#### Ecrire ici le programme qui recolorie les postes 'Centre' en bleu ###\n",
    "\n",
    "\n",
    "#### Ecrire ici le programme qui recolorie les postes '2ème ligne' en vert ###\n",
    "\n",
    "\n",
    "\n",
    "# Affiche le résultat\n",
    "plt.show()"
   ]
  },
  {
   "cell_type": "markdown",
   "metadata": {},
   "source": [
    "4/ (Oral) Un rugby grand et costaud a t-il plus de chances d'avoir un poste de Centre ou de deuxième ligne ? <b>Justifier</b>.\n",
    "\n",
    "### <u>Appeler le professeur</u> pour la validation"
   ]
  }
 ],
 "metadata": {
  "kernelspec": {
   "display_name": "Python 3",
   "language": "python",
   "name": "python3"
  },
  "language_info": {
   "codemirror_mode": {
    "name": "ipython",
    "version": 3
   },
   "file_extension": ".py",
   "mimetype": "text/x-python",
   "name": "python",
   "nbconvert_exporter": "python",
   "pygments_lexer": "ipython3",
   "version": "3.7.7"
  },
  "toc": {
   "base_numbering": 1,
   "nav_menu": {},
   "number_sections": false,
   "sideBar": true,
   "skip_h1_title": false,
   "title_cell": "Table of Contents",
   "title_sidebar": "Contents",
   "toc_cell": false,
   "toc_position": {},
   "toc_section_display": true,
   "toc_window_display": true
  }
 },
 "nbformat": 4,
 "nbformat_minor": 2
}
