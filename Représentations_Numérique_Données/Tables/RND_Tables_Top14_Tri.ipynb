{
 "cells": [
  {
   "cell_type": "markdown",
   "metadata": {},
   "source": [
    "# RND.Tables. Top14 (Tri des données)\n"
   ]
  },
  {
   "cell_type": "markdown",
   "metadata": {},
   "source": [
    "On reprend le fichier de joueurs de rugby du Top14. \n"
   ]
  },
  {
   "cell_type": "code",
   "execution_count": null,
   "metadata": {},
   "outputs": [],
   "source": [
    "import csv\n",
    "\n",
    "f = open('top14.csv', \"r\", encoding = 'utf-8')\n",
    "donnees = csv.DictReader(f)\n",
    "joueurs = []\n",
    "for ligne in donnees:\n",
    "    joueurs.append(dict(ligne))\n",
    "    \n",
    "f.close()"
   ]
  },
  {
   "cell_type": "markdown",
   "metadata": {},
   "source": [
    "## <u>Partie I</u> :  Créer une fonction filtre\n",
    "\n",
    "L'objectif est de créer une fonction `joueursEquipe(equipe)` qui renvoie une liste contentant tous les joueurs de l'équipe `equipe`. \n",
    "Le paramètre `equipe` sera donnée sous forme de chaîne de caractères. \n",
    "La valeur renvoyée sera de type liste."
   ]
  },
  {
   "cell_type": "code",
   "execution_count": null,
   "metadata": {},
   "outputs": [],
   "source": [
    "def joueursEquipe(equipe):\n",
    "    ret = []\n",
    "    \n",
    "    for k in joueurs :\n",
    "        if k['Equipe'] == equipe :\n",
    "            ret.append(k)\n",
    "    \n",
    "    return ret\n"
   ]
  },
  {
   "cell_type": "markdown",
   "metadata": {},
   "source": [
    "Exemple d'utilisation :"
   ]
  },
  {
   "cell_type": "code",
   "execution_count": null,
   "metadata": {},
   "outputs": [],
   "source": [
    "len(joueursEquipe(\"Bordeaux\"))"
   ]
  },
  {
   "cell_type": "markdown",
   "metadata": {},
   "source": [
    "Définir de la même manière une fonction `joueursPoste(poste)`."
   ]
  },
  {
   "cell_type": "code",
   "execution_count": null,
   "metadata": {},
   "outputs": [],
   "source": [
    "### ECRIRE le programme ici\n"
   ]
  },
  {
   "cell_type": "code",
   "execution_count": null,
   "metadata": {},
   "outputs": [],
   "source": []
  },
  {
   "cell_type": "markdown",
   "metadata": {},
   "source": [
    "### <u>Appeler le professeur</u> en cas de besoin."
   ]
  },
  {
   "cell_type": "markdown",
   "metadata": {},
   "source": [
    "## <u>Partie II</u> :  Utilisation d'une fonction de tri"
   ]
  },
  {
   "cell_type": "markdown",
   "metadata": {},
   "source": [
    "Comment classer les joueurs suivant leur taille ?\n",
    "La fonction `sorted(liste)` est efficace sur les listes : elle renvoie une nouvelle liste triée dans l'ordre croissant.\n",
    "\n",
    "1/ <b>Tester</b> le programme suivant :"
   ]
  },
  {
   "cell_type": "code",
   "execution_count": null,
   "metadata": {},
   "outputs": [],
   "source": [
    "mylist = [4,2,8,6]\n",
    "mynewlist = sorted(mylist)\n",
    "print(mynewlist)"
   ]
  },
  {
   "cell_type": "markdown",
   "metadata": {},
   "source": [
    "Mais comment trier un dictionnaire ? \n",
    "\n",
    "2/ <b>Tester</b> le programme suivant :"
   ]
  },
  {
   "cell_type": "code",
   "execution_count": null,
   "metadata": {},
   "outputs": [],
   "source": [
    "test = sorted(joueurs)"
   ]
  },
  {
   "cell_type": "markdown",
   "metadata": {},
   "source": [
    "Il est normal que cette tentative échoue : <b>un dictionnaire possède plusieurs clés différentes</b>.\n",
    "Ici, plusieurs clés peuvent être des critères de tri : la taille, le poids."
   ]
  },
  {
   "cell_type": "markdown",
   "metadata": {},
   "source": [
    "3/ <b>Un exemple de tri</b> de dictionnaire ici :"
   ]
  },
  {
   "cell_type": "code",
   "execution_count": null,
   "metadata": {},
   "outputs": [],
   "source": [
    "Simpsons = [{\"Prenom\" : \"Bart\", \"age estimé\": \"10\"},\n",
    "           {\"Prenom\" : \"Lisa\", \"age estimé\": \"8\"},\n",
    "           {\"Prenom\" : \"Maggie\", \"age estimé\": \"1\"},\n",
    "           {\"Prenom\" : \"Homer\", \"age estimé\": \"38\"},\n",
    "           {\"Prenom\" : \"Marge\", \"age estimé\": \"37\"}]"
   ]
  },
  {
   "cell_type": "code",
   "execution_count": null,
   "metadata": {},
   "outputs": [],
   "source": [
    "# Ne pas oublier la conversion en nombre\n",
    "def age(personnage):\n",
    "    return int(personnage[\"age estimé\"])"
   ]
  },
  {
   "cell_type": "markdown",
   "metadata": {},
   "source": [
    "La création de cette fonction `age()` va nous permettre de spécifier une clé de tri, par le paramètre `key` :"
   ]
  },
  {
   "cell_type": "code",
   "execution_count": null,
   "metadata": {},
   "outputs": [],
   "source": [
    "triSimpsons = sorted(Simpsons, key = age)\n",
    "print(triSimpsons)"
   ]
  },
  {
   "cell_type": "code",
   "execution_count": null,
   "metadata": {},
   "outputs": [],
   "source": [
    "triRevSimpsons = sorted(Simpsons, key = age, reverse = True)\n",
    "print(triRevSimpsons)"
   ]
  },
  {
   "cell_type": "markdown",
   "metadata": {},
   "source": [
    "### <u>Exercice 1</u> :  \n",
    "\n",
    "1/ <b>Trier</b> les joueurs du top14 par taille.\n"
   ]
  },
  {
   "cell_type": "code",
   "execution_count": null,
   "metadata": {},
   "outputs": [],
   "source": [
    "### ECRIRE le programme ici\n"
   ]
  },
  {
   "cell_type": "markdown",
   "metadata": {},
   "source": [
    "2/ <b>Trier</b> les joueurs de Bordeaux par taille."
   ]
  },
  {
   "cell_type": "code",
   "execution_count": null,
   "metadata": {},
   "outputs": [],
   "source": [
    "### ECRIRE le programme ici\n"
   ]
  },
  {
   "cell_type": "markdown",
   "metadata": {},
   "source": [
    "3/ <b>Trier</b> les joueurs de Bordeaux suivant leur Indice de Masse Corporelle ([IMC](https://fr.wikipedia.org/wiki/Indice_de_masse_corporelle) )"
   ]
  },
  {
   "cell_type": "code",
   "execution_count": null,
   "metadata": {},
   "outputs": [],
   "source": [
    "### ECRIRE le programme ici\n"
   ]
  },
  {
   "cell_type": "markdown",
   "metadata": {},
   "source": [
    "### <u>Exercice 2</u> : Recherche des joueurs de profil  physique similaire"
   ]
  },
  {
   "cell_type": "markdown",
   "metadata": {},
   "source": [
    "1/ <b>Distance entre deux joueurs</b>\n",
    "\n",
    "<b>Construire</b> une fonction `distance(joueur1,joueur2)` qui renvoie la somme des carrés des différences de tailles et de poids entre les joueurs `joueur1` et `joueur2` : \n",
    "$$ d = (p_1-p_2)^2 + (t_1-t_2)^2$$"
   ]
  },
  {
   "cell_type": "code",
   "execution_count": 15,
   "metadata": {},
   "outputs": [],
   "source": [
    "### ECRIRE le programme ici\n"
   ]
  },
  {
   "cell_type": "markdown",
   "metadata": {},
   "source": [
    "<b> Distance des joueurs avec Baptiste Serin puis avec Tapu Falatea</b>"
   ]
  },
  {
   "cell_type": "markdown",
   "metadata": {},
   "source": [
    "Retrouvons d'abord le numéro de Baptiste Serin dans notre classement de joueurs :"
   ]
  },
  {
   "cell_type": "code",
   "execution_count": null,
   "metadata": {},
   "outputs": [],
   "source": [
    "for k in range(len(joueurs)) :\n",
    "    if joueurs[k]['Nom'] == 'Baptiste SERIN' :\n",
    "        print(k)"
   ]
  },
  {
   "cell_type": "code",
   "execution_count": null,
   "metadata": {},
   "outputs": [],
   "source": [
    "# Il s'agit bien du 530ième joueur\n",
    "print(joueurs[530])"
   ]
  },
  {
   "cell_type": "markdown",
   "metadata": {},
   "source": [
    "Nous pouvons maintenant classer les joueurs suivant leur distance morphologique à Baptiste  Serin :"
   ]
  },
  {
   "cell_type": "code",
   "execution_count": 13,
   "metadata": {},
   "outputs": [],
   "source": [
    "def distanceSerin(joueur2):\n",
    "    return distance(joueurs[530],joueur2)\n"
   ]
  },
  {
   "cell_type": "code",
   "execution_count": null,
   "metadata": {},
   "outputs": [],
   "source": [
    "joueurs_VS_Serin = sorted(joueurs, key = distanceSerin)\n",
    "\n",
    "print(joueurs_VS_Serin)"
   ]
  },
  {
   "cell_type": "markdown",
   "metadata": {},
   "source": [
    "2/ <b>Modifier</b> le/les programme(s) précédent(s) pour trier les joueurs en fonction de leur distance à `Tapu FALATEA`."
   ]
  },
  {
   "cell_type": "markdown",
   "metadata": {},
   "source": [
    "### <u>Appeler le professeur</u> en cas de besoin."
   ]
  }
 ],
 "metadata": {
  "kernelspec": {
   "display_name": "Python 3",
   "language": "python",
   "name": "python3"
  },
  "language_info": {
   "codemirror_mode": {
    "name": "ipython",
    "version": 3
   },
   "file_extension": ".py",
   "mimetype": "text/x-python",
   "name": "python",
   "nbconvert_exporter": "python",
   "pygments_lexer": "ipython3",
   "version": "3.7.3"
  },
  "toc": {
   "base_numbering": 1,
   "nav_menu": {},
   "number_sections": false,
   "sideBar": true,
   "skip_h1_title": false,
   "title_cell": "Table of Contents",
   "title_sidebar": "Contents",
   "toc_cell": false,
   "toc_position": {},
   "toc_section_display": true,
   "toc_window_display": true
  }
 },
 "nbformat": 4,
 "nbformat_minor": 2
}
