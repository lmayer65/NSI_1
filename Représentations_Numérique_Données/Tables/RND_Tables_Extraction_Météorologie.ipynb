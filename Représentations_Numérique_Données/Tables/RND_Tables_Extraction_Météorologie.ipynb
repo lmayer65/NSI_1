{
 "cells": [
  {
   "cell_type": "markdown",
   "metadata": {},
   "source": [
    "# RND.Tables (Extraction de données)\n",
    "\n"
   ]
  },
  {
   "cell_type": "markdown",
   "metadata": {},
   "source": [
    "## <u>Partie I</u> : préparation des fichiers\n",
    "\n",
    "Cette activité utilise des <b>relevés météorologiques</b> mensuels de diverses stations en France (et outre-mer)."
   ]
  },
  {
   "cell_type": "markdown",
   "metadata": {},
   "source": [
    "1/ <b>Télécharger</b> et <b>installer</b> le logiciel `Express Unzip` à l'adresse https://www.nchsoftware.com/zip/index.html.\n",
    "Il permettra de décompresser les fichiers fournis par Météo France qui sont au format .gz.\n",
    "\n",
    "2/ <b>Aller</b> sur le site suivant : https://donneespubliques.meteofrance.fr/?fond=produit&id_produit=115&id_rubrique=38. Dans l'onglet 'informations sur les stations', <b>repérer</b> et <b>noter</b> le numéro de poste (ID) de celui de Limoges. Limoges = \n",
    "......\n",
    "\n",
    "<b><u>A noter</u></b> : <b>Les numéros des postes de la France métropolitaine commencent tous par un `07` et sont les premiers de la liste</b>.\n",
    "\n",
    "3/ Toujours sur ce site, <b>télécharger au format .csv</b> et <b>décompresser</b> le relevé du mois de janvier 1997. Le <b>monter</b> ensuite sur Jupyter.\n",
    "\n",
    "Tout est prêt pour exploiter les données."
   ]
  },
  {
   "cell_type": "markdown",
   "metadata": {},
   "source": [
    "## <u>Partie II</u> : détermination des champs du fichier"
   ]
  },
  {
   "cell_type": "markdown",
   "metadata": {},
   "source": [
    "<b><u>Question</u></b> :<b> Ecrire</b> ci-dessous un programme permettant de lister la liste des champs du fichier."
   ]
  },
  {
   "cell_type": "code",
   "execution_count": null,
   "metadata": {},
   "outputs": [],
   "source": [
    "### ECRIRE le programme ici \n"
   ]
  },
  {
   "cell_type": "markdown",
   "metadata": {},
   "source": [
    "Il y a en tout 54 champs. Voici un mini-lexique pour les comprendre :\n",
    "\n",
    "- `NUM_POSTE` est le numéro de poste de la station (ID).\n",
    "- `NBJ` signifie `nombre de jours`.\n",
    "- `MOY` signifie `moyenne`.\n",
    "- `TX` signifie `température maximale`.\n",
    "- `TN` signifie `température minimale`.\n",
    "- `RR` signifie `précipitations`.\n",
    "\n",
    "Exemples :\n",
    "- `NBJTX25` signifie `nombre de jours avec une température maximale supérieure à 25°C`.\n",
    "- `NBJRR1`signifie `nombre de jours de pluie avec au moins 1 mm d'eau`.\n",
    "- `NBJNEIG0`signifie `nombre de jours de neige observée`(sans qu'elle ne tienne forcément au sol).\n",
    "- `NBJNEIG1`signifie `nombre de jours de neige avec au moins 1 cm au sol`."
   ]
  },
  {
   "cell_type": "markdown",
   "metadata": {},
   "source": [
    "## <u>Partie III</u> : chargement du fichier"
   ]
  },
  {
   "cell_type": "markdown",
   "metadata": {},
   "source": [
    "Les données du fichier seront chargés sous la forme <b>d'un dictionnaire de dictionnaires</b> avec comme clé le numéro de poste (`NUM_POSTE`).\n",
    "\n",
    "<b>Question</b> : <b>Justifier</b> le fait qu'utiliser le numéro de poste comme clé est adapté.\n",
    "\n",
    "Le programme ci-dessous permet de convertir les données .csv en dictionnaire de dictionnaires. \n",
    "\n",
    "<b><u>Attention</u></b> : On pensera à adapter le nom du fichier ci-besoin !"
   ]
  },
  {
   "cell_type": "code",
   "execution_count": null,
   "metadata": {},
   "outputs": [],
   "source": [
    "# Ouvre le fichier de relevés météorologiques\n",
    "fichier = open(\"climat199701.csv\",\"r\",encoding = \"utf-8\")\n",
    "\n",
    "# On récupère les champs sous forme de liste\n",
    "champs = fichier.readline()\n",
    "champs = champs.rstrip().split(\";\")\n",
    "nbrChamps = len(champs)\n",
    "\n",
    "# On récupère les données brutes sous forme de liste de listes\n",
    "donnees = []\n",
    "for ligne in fichier :\n",
    "    ligne = ligne.rstrip().split(\";\")\n",
    "    donnees.append(ligne)\n",
    "\n",
    "# Conversion des données en dictionnaire de dictionnaires avec pour clé le numéro\n",
    "# de poste (qui est bien unique)\n",
    "releves = {}\n",
    "for releve in donnees :\n",
    "    station = {}\n",
    "    for i in range(nbrChamps) :\n",
    "        # On remplace les cases vides par un '0', ce sera plus facile pour les comparaisons\n",
    "        if releve[i] == '' :\n",
    "            releve[i] = '0'\n",
    "            \n",
    "        station[champs[i]] = releve[i]\n",
    "    \n",
    "    releves[releve[0]] = station\n",
    "    \n",
    "fichier.close()"
   ]
  },
  {
   "cell_type": "markdown",
   "metadata": {},
   "source": [
    "1/ <b>Ecrire</b> l'instruction permettant de trouver le nombre de jours de neige avec au moins 1 cm au sol à Limoges."
   ]
  },
  {
   "cell_type": "code",
   "execution_count": null,
   "metadata": {},
   "outputs": [],
   "source": [
    "# Ecrire l'instruction ici\n"
   ]
  },
  {
   "cell_type": "markdown",
   "metadata": {},
   "source": [
    "2/ <b>Même question</b> avec cette fois au moins 10 cm de neige."
   ]
  },
  {
   "cell_type": "code",
   "execution_count": null,
   "metadata": {},
   "outputs": [],
   "source": [
    "# Ecrire l'instruction ici\n"
   ]
  },
  {
   "cell_type": "markdown",
   "metadata": {},
   "source": [
    "3/ <b>Ecrire</b> l'instruction permettant de trouver température maximale moyenne à Orly."
   ]
  },
  {
   "cell_type": "code",
   "execution_count": null,
   "metadata": {},
   "outputs": [],
   "source": [
    "# Ecrire l'instruction ici\n"
   ]
  },
  {
   "cell_type": "markdown",
   "metadata": {},
   "source": [
    "### <u>Appeler le professeur</u> pour validation."
   ]
  },
  {
   "cell_type": "markdown",
   "metadata": {},
   "source": [
    "L'annuaire ci-dessous permet de relier les numéros de postes aux villes :"
   ]
  },
  {
   "cell_type": "code",
   "execution_count": 4,
   "metadata": {},
   "outputs": [],
   "source": [
    "# l'annuaire ci-dessous permet de relier les numéros de postes aux villes\n",
    "annuaire = { '07005' : 'ABBEVILLE' , '07015' : 'LILLE' , '07020' :'PTE DE LA HAGUE' , '07027' : 'CAEN-CARPIQUET' ,\n",
    "'07037' : 'ROUEN-BOOS' , '07072' :'REIMS-PRUNAY', '07110' : 'BREST-GUIPAVAS' , '07117' : \"PLOUMANAC'H\" ,\n",
    "'07130' : 'RENNES-ST JACQUES','07139' : 'ALENCON', '07149' : 'ORLY' , '07168' : 'TROYES-BARBEREY' ,\n",
    "'07181' : 'NANCY-OCHEY' , '07190' : 'STRASBOURG-ENTZHEIM' , '07207' : 'BELLE ILE-LE TALUT' , '07222' : 'NANTES-BOUGUENAIS' ,\n",
    "'07240' : 'TOURS' , '07255' : 'BOURGES' , '07280' : 'DIJON-LONGVIC' , '07299' : 'BALE-MULHOUSE' , \n",
    "'07314' : 'PTE DE CHASSIRON' , '07335' : 'POITIERS-BIARD' , '07434' : 'LIMOGES-BELLEGARDE' , '07460' : 'CLERMONT-FD' ,\n",
    "'07471' : 'LE PUY-LOUDES' , '07481' : 'LYON-ST EXUPERY' , '07510' : 'BORDEAUX-MERIGNAC'  , '07535' : 'GOURDON' ,\n",
    "'07560' : 'MONT AIGOUAL' , '07577' : 'MONTELIMAR' , '07591' : 'EMBRUN' , '07607' : 'MONT-DE-MARSAN' , \n",
    "'07621' : 'TARBES-LOURDES-PYRENEES' , '07627' : 'ST GIRONS' , '07630' : 'TOULOUSE-BLAGNAC' , '07643' : 'MONTPELLIER' ,\n",
    "'07650' : 'MARIGNANE' , '07661' : 'CAP CEPET' , '07690' : 'NICE' , '07747' : 'PERPIGNAN' , '07761' : 'AJACCIO' , '07790' : 'BASTIA' ,\n",
    "'61968' : 'GLORIEUSES' , '61970' : 'JUAN DE NOVA' , '61972' : 'EUROPA' , '61976' : 'TROMELIN' ,  '61980' : 'GILLOT-AEROPORT' ,\n",
    "'61996' : 'NOUVELLE AMSTERDAM' , '61997' : 'CROZET' , '61998' : 'KERGUELEN' , '67005' : 'PAMANDZI' , \n",
    "'78897' : 'LE RAIZET AERO ' , '78925' : 'LAMANTIN-AERO' ,'81401' : 'SAINT LAURENT' ,'81405' : 'CAYENNE'  ,\n",
    "'81408' : 'SAINT GEORGES' ,'81415' : 'MARIPASOULA' ,'89642' : 'DUMONT DURVILLE' }"
   ]
  },
  {
   "cell_type": "markdown",
   "metadata": {},
   "source": [
    "4/ <b>Ecrire</b> un programme listant les quatre <b>VILLES</b> (et non les numéros de poste ayant eu au moins 5 jours de neige avec 10 cm au sol minimum. On utilisera la variable `annuaire`pour y parvenir et n'oubliez pas d'exécuter la cellule précédente.\n",
    "\n",
    "<u>Rappel</u> : les données sont toutes des chaînes de caractères, pensez à les convertir en entier."
   ]
  },
  {
   "cell_type": "code",
   "execution_count": null,
   "metadata": {},
   "outputs": [],
   "source": [
    "### ECRIRE le programme ici\n"
   ]
  },
  {
   "cell_type": "markdown",
   "metadata": {},
   "source": [
    "### <u>Appeler le professeur</u> pour validation."
   ]
  },
  {
   "cell_type": "markdown",
   "metadata": {},
   "source": [
    "## <u>Partie IV</u> : la canicule d'août 2003"
   ]
  },
  {
   "cell_type": "markdown",
   "metadata": {},
   "source": [
    "La canicule d'août 2003 reste à ce jour l'épisode le plus exceptionnel vécu en France tant par sa longueur que par son intensité et son étendue géographique. \n",
    "\n",
    "Lien ici : http://www.meteofrance.fr/climat-passe-et-futur/evenements-remarquables/retour-sur-la-canicule-daot-2003-#:~:text=Du%207%20au%2014%20ao%C3%BBt,sup%C3%A9rieures%20%C3%A0%2023%C2%B0C.&text=Pour%20les%20temp%C3%A9ratures%20maximales%2C%20du,avec%20des%20temp%C3%A9ratures%20moins%20%C3%A9lev%C3%A9es."
   ]
  },
  {
   "cell_type": "markdown",
   "metadata": {},
   "source": [
    "1/ <b>Télécharger, décompresser</b> et <b>monter</b> sur Jupyter le fichier correspondant à partir du site  https://donneespubliques.meteofrance.fr/?fond=produit&id_produit=115&id_rubrique=38.\n",
    "\n",
    "2/ <b>Indiquer</b> si besoin le bon nom du fichier dans le programme ci-dessous et l'<b>exécuter</b>."
   ]
  },
  {
   "cell_type": "code",
   "execution_count": 2,
   "metadata": {},
   "outputs": [],
   "source": [
    "# Ouvre le fichier de relevés météorologiques\n",
    "fichier = open(\"climat.200308.csv\",\"r\",encoding = \"utf-8\")\n",
    "\n",
    "# On récupère les champs sous forme de liste\n",
    "champs = fichier.readline()\n",
    "champs = champs.rstrip().split(\";\")\n",
    "nbrChamps = len(champs)\n",
    "\n",
    "# On récupère les données brutes sous forme de liste de listes\n",
    "donnees = []\n",
    "for ligne in fichier :\n",
    "    ligne = ligne.rstrip().split(\";\")\n",
    "    donnees.append(ligne)\n",
    "\n",
    "# Conversion des données en dictionnaire de dictionnaires avec pour clé le numéro\n",
    "# de poste (qui est bien unique)\n",
    "releves = {}\n",
    "for releve in donnees :\n",
    "    station = {}\n",
    "    for i in range(nbrChamps) :\n",
    "        # On remplace les cases vides par un '0', ce sera plus facile pour les comparaisons\n",
    "        if releve[i] == '' :\n",
    "            releve[i] = '0'\n",
    "            \n",
    "        station[champs[i]] = releve[i]\n",
    "    \n",
    "    releves[releve[0]] = station\n",
    "    \n",
    "fichier.close()"
   ]
  },
  {
   "cell_type": "markdown",
   "metadata": {},
   "source": [
    "### Des températures exceptionnelles\n",
    "\n",
    "Des températures supérieures à 40°C ont été notées dans certaines villes de France. Des records de chaleur ont été battus.\n",
    "\n",
    "1/ <b>Ecrire</b> un programme donnant les stations ayant connu des températures supérieures à 40°C."
   ]
  },
  {
   "cell_type": "code",
   "execution_count": null,
   "metadata": {},
   "outputs": [],
   "source": [
    "### ECRIRE le programme ici\n"
   ]
  },
  {
   "cell_type": "markdown",
   "metadata": {},
   "source": [
    "2/ Pour simplifier, on considèrera qu'il y a un risque pour la population si la température maximale dépasse 35°C.\n",
    "\n",
    "<b>Ecrire</b> un programme listant le nombre de jours par station de la <i><b>France métropolitaine et Corse seulement</b></i> ayant représenté un risque pour la population."
   ]
  },
  {
   "cell_type": "code",
   "execution_count": null,
   "metadata": {},
   "outputs": [],
   "source": [
    "### ECRIRE le programme ici\n"
   ]
  },
  {
   "cell_type": "markdown",
   "metadata": {},
   "source": [
    "### <u>Appeler le professeur</u> pour validation."
   ]
  },
  {
   "cell_type": "markdown",
   "metadata": {},
   "source": [
    "### Un mois peu pluvieux\n",
    "\n",
    "Cette canicule s'est accompagnée également d'un mois d'août peu arrosé. \n",
    "\n",
    "<b><u>Question</b></u> : <b>Ecrire</b> un programme listant le nombre de jours de précipitations au moins égales à 10 mm par station de la <b><i>France métropolitaine et Corse seulement</i></b>."
   ]
  },
  {
   "cell_type": "code",
   "execution_count": null,
   "metadata": {},
   "outputs": [],
   "source": [
    "### ECRIRE le programme ici\n"
   ]
  },
  {
   "cell_type": "markdown",
   "metadata": {},
   "source": [
    "### <u>Appeler le professeur</u> pour validation."
   ]
  }
 ],
 "metadata": {
  "kernelspec": {
   "display_name": "Python 3",
   "language": "python",
   "name": "python3"
  },
  "language_info": {
   "codemirror_mode": {
    "name": "ipython",
    "version": 3
   },
   "file_extension": ".py",
   "mimetype": "text/x-python",
   "name": "python",
   "nbconvert_exporter": "python",
   "pygments_lexer": "ipython3",
   "version": "3.7.3"
  }
 },
 "nbformat": 4,
 "nbformat_minor": 2
}
